{
 "cells": [
  {
   "cell_type": "markdown",
   "id": "ce486669",
   "metadata": {},
   "source": [
    "# Project 4: Airbnb Listings Analysis\n",
    "\n",
    "## 1. Project Overview\n",
    "# - Goal: Analyze Airbnb listings (prices, locations, room types)\n",
    "# - Dataset: airbnb_listings.csv"
   ]
  },
  {
   "cell_type": "code",
   "execution_count": null,
   "id": "bea27ac7",
   "metadata": {
    "vscode": {
     "languageId": "plaintext"
    }
   },
   "outputs": [],
   "source": [
    "## 2. Import Libraries\n",
    "import pandas as pd\n",
    "import matplotlib.pyplot as plt\n",
    "import seaborn as sns"
   ]
  },
  {
   "cell_type": "code",
   "execution_count": null,
   "id": "b2a32e77",
   "metadata": {
    "vscode": {
     "languageId": "plaintext"
    }
   },
   "outputs": [],
   "source": [
    "## 3. Load Data\n",
    "df = pd.read_csv(\"../datasets/airbnb_listings.csv\")\n",
    "df.head()"
   ]
  },
  {
   "cell_type": "markdown",
   "id": "b0a5abba",
   "metadata": {},
   "source": [
    "## 4. Data Cleaning\n",
    "# - Fix missing price/host info\n",
    "# - Convert price to numeric\n",
    "# - Handle outliers"
   ]
  },
  {
   "cell_type": "markdown",
   "id": "1003fbd6",
   "metadata": {},
   "source": [
    "## 5. Exploratory Data Analysis\n",
    "# - Distribution of prices\n",
    "# - Room types popularity\n",
    "# - Listings per neighborhood\n",
    "# - Correlation of reviews and price"
   ]
  },
  {
   "cell_type": "markdown",
   "id": "e72cebba",
   "metadata": {},
   "source": [
    "## 6. Visualizations\n",
    "# Histograms, maps, boxplots"
   ]
  },
  {
   "cell_type": "markdown",
   "id": "4c08bb95",
   "metadata": {},
   "source": [
    "## 7. Insights & Recommendations"
   ]
  },
  {
   "cell_type": "markdown",
   "id": "a5cafede",
   "metadata": {},
   "source": [
    "## 8. (Advanced Day 6)\n",
    "# Regression model for price prediction\n",
    "# Interactive dashboard (Streamlit or Plotly)"
   ]
  }
 ],
 "metadata": {
  "language_info": {
   "name": "python"
  }
 },
 "nbformat": 4,
 "nbformat_minor": 5
}
