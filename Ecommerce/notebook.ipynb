{
 "cells": [
  {
   "cell_type": "markdown",
   "id": "04594971",
   "metadata": {},
   "source": [
    "# Project 1: E-Commerce Sales Analysis\n",
    "\n",
    "## 1. Project Overview\n",
    "# - Goal: Analyze sales trends, top customers, popular products\n",
    "# - Dataset: sales.csv"
   ]
  },
  {
   "cell_type": "code",
   "execution_count": null,
   "id": "e35a335c",
   "metadata": {
    "vscode": {
     "languageId": "plaintext"
    }
   },
   "outputs": [],
   "source": [
    "## 2. Import Libraries\n",
    "import pandas as pd\n",
    "import matplotlib.pyplot as plt\n",
    "import seaborn as sns"
   ]
  },
  {
   "cell_type": "markdown",
   "id": "6e023ca7",
   "metadata": {},
   "source": [
    "## 3. Load Data\n",
    "df = pd.read_csv(\"../datasets/ecommerce_sales.csv\")\n",
    "df.head()"
   ]
  },
  {
   "cell_type": "markdown",
   "id": "afe3f67e",
   "metadata": {},
   "source": [
    "## 4. Data Cleaning\n",
    "# - Check nulls\n",
    "# - Fix datatypes\n",
    "# - Handle duplicates"
   ]
  },
  {
   "cell_type": "markdown",
   "id": "25683028",
   "metadata": {},
   "source": [
    "## 5. Exploratory Data Analysis\n",
    "# - df.describe()\n",
    "# - Sales over time\n",
    "# - Top products\n",
    "# - Revenue by region"
   ]
  },
  {
   "cell_type": "markdown",
   "id": "bdb21ebc",
   "metadata": {},
   "source": [
    "## 6. Visualizations\n",
    "# plt.plot(), sns.barplot(), sns.heatmap()"
   ]
  },
  {
   "cell_type": "markdown",
   "id": "f2995b5f",
   "metadata": {},
   "source": [
    "## 7. Insights & Recommendations\n",
    "# Write 3-5 bullet points on what you found"
   ]
  }
 ],
 "metadata": {
  "language_info": {
   "name": "python"
  }
 },
 "nbformat": 4,
 "nbformat_minor": 5
}
