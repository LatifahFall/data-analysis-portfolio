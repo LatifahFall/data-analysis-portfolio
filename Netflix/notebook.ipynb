{
 "cells": [
  {
   "cell_type": "markdown",
   "id": "a4a447ea",
   "metadata": {},
   "source": [
    "# Project 2: Netflix Content Analysis\n",
    "\n",
    "## 1. Project Overview\n",
    "# - Goal: Explore Netflix library (genres, years, countries)\n",
    "# - Dataset: netflix_titles.csv"
   ]
  },
  {
   "cell_type": "markdown",
   "id": "1f155bef",
   "metadata": {},
   "source": [
    "\n",
    "## 2. Import Libraries\n",
    "import pandas as pd\n",
    "import matplotlib.pyplot as plt\n",
    "import seaborn as sns"
   ]
  },
  {
   "cell_type": "markdown",
   "id": "44531b97",
   "metadata": {},
   "source": [
    "## 3. Load Data\n",
    "df = pd.read_csv(\"../datasets/netflix_titles.csv\")\n",
    "df.head()"
   ]
  },
  {
   "cell_type": "markdown",
   "id": "edad91ec",
   "metadata": {},
   "source": [
    "## 4. Data Cleaning\n",
    "# - Handle missing directors, dates\n",
    "# - Convert \"date_added\" to datetime\n",
    "# - Normalize country/genre columns"
   ]
  },
  {
   "cell_type": "markdown",
   "id": "6ec3d45d",
   "metadata": {},
   "source": [
    "## 5. Exploratory Data Analysis\n",
    "# - Distribution of content by year\n",
    "# - Movies vs TV shows\n",
    "# - Top genres\n",
    "# - Content by country"
   ]
  },
  {
   "cell_type": "markdown",
   "id": "2a5c2d34",
   "metadata": {},
   "source": [
    "\n",
    "## 6. Visualizations\n",
    "# sns.countplot(), word clouds, bar charts"
   ]
  },
  {
   "cell_type": "markdown",
   "id": "8cbf264e",
   "metadata": {},
   "source": [
    "\n",
    "## 7. Insights & Recommendations"
   ]
  }
 ],
 "metadata": {
  "language_info": {
   "name": "python"
  }
 },
 "nbformat": 4,
 "nbformat_minor": 5
}
